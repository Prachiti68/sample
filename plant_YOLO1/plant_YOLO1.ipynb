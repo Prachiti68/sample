{
 "cells": [
  {
   "cell_type": "code",
   "execution_count": 1,
   "id": "e1656fa9",
   "metadata": {},
   "outputs": [
    {
     "name": "stdout",
     "output_type": "stream",
     "text": [
      "Requirement already satisfied: numpy==1.24.2 in c:\\users\\prachiti\\appdata\\local\\programs\\python\\python38\\lib\\site-packages (1.24.2)\n"
     ]
    }
   ],
   "source": [
    "!pip install numpy==1.24.2"
   ]
  },
  {
   "cell_type": "code",
   "execution_count": 2,
   "id": "39806c46",
   "metadata": {},
   "outputs": [
    {
     "name": "stdout",
     "output_type": "stream",
     "text": [
      "Collecting tensorflow==2.11.1\n",
      "  Using cached tensorflow-2.11.1-cp38-cp38-win_amd64.whl (1.9 kB)\n",
      "Collecting tensorflow-intel==2.11.1\n",
      "  Using cached tensorflow_intel-2.11.1-cp38-cp38-win_amd64.whl (266.3 MB)\n",
      "Requirement already satisfied: gast<=0.4.0,>=0.2.1 in c:\\users\\prachiti\\appdata\\local\\programs\\python\\python38\\lib\\site-packages (from tensorflow-intel==2.11.1->tensorflow==2.11.1) (0.3.3)\n",
      "Requirement already satisfied: tensorflow-io-gcs-filesystem>=0.23.1 in c:\\users\\prachiti\\appdata\\local\\programs\\python\\python38\\lib\\site-packages (from tensorflow-intel==2.11.1->tensorflow==2.11.1) (0.30.0)\n",
      "Requirement already satisfied: flatbuffers>=2.0 in c:\\users\\prachiti\\appdata\\local\\programs\\python\\python38\\lib\\site-packages (from tensorflow-intel==2.11.1->tensorflow==2.11.1) (23.1.21)\n",
      "Requirement already satisfied: opt-einsum>=2.3.2 in c:\\users\\prachiti\\appdata\\local\\programs\\python\\python38\\lib\\site-packages (from tensorflow-intel==2.11.1->tensorflow==2.11.1) (3.3.0)\n",
      "Requirement already satisfied: typing-extensions>=3.6.6 in c:\\users\\prachiti\\appdata\\local\\programs\\python\\python38\\lib\\site-packages (from tensorflow-intel==2.11.1->tensorflow==2.11.1) (4.0.1)\n",
      "Requirement already satisfied: numpy>=1.20 in c:\\users\\prachiti\\appdata\\local\\programs\\python\\python38\\lib\\site-packages (from tensorflow-intel==2.11.1->tensorflow==2.11.1) (1.24.2)\n",
      "Requirement already satisfied: wrapt>=1.11.0 in c:\\users\\prachiti\\appdata\\local\\programs\\python\\python38\\lib\\site-packages (from tensorflow-intel==2.11.1->tensorflow==2.11.1) (1.14.1)\n",
      "Requirement already satisfied: google-pasta>=0.1.1 in c:\\users\\prachiti\\appdata\\local\\programs\\python\\python38\\lib\\site-packages (from tensorflow-intel==2.11.1->tensorflow==2.11.1) (0.2.0)\n",
      "Requirement already satisfied: tensorboard<2.12,>=2.11 in c:\\users\\prachiti\\appdata\\local\\programs\\python\\python38\\lib\\site-packages (from tensorflow-intel==2.11.1->tensorflow==2.11.1) (2.11.0)\n",
      "Requirement already satisfied: setuptools in c:\\users\\prachiti\\appdata\\local\\programs\\python\\python38\\lib\\site-packages (from tensorflow-intel==2.11.1->tensorflow==2.11.1) (67.6.0)\n",
      "Requirement already satisfied: six>=1.12.0 in c:\\users\\prachiti\\appdata\\local\\programs\\python\\python38\\lib\\site-packages (from tensorflow-intel==2.11.1->tensorflow==2.11.1) (1.16.0)\n",
      "Requirement already satisfied: libclang>=13.0.0 in c:\\users\\prachiti\\appdata\\local\\programs\\python\\python38\\lib\\site-packages (from tensorflow-intel==2.11.1->tensorflow==2.11.1) (15.0.6.1)\n",
      "Requirement already satisfied: protobuf<3.20,>=3.9.2 in c:\\users\\prachiti\\appdata\\local\\programs\\python\\python38\\lib\\site-packages (from tensorflow-intel==2.11.1->tensorflow==2.11.1) (3.19.6)\n",
      "Requirement already satisfied: keras<2.12,>=2.11.0 in c:\\users\\prachiti\\appdata\\local\\programs\\python\\python38\\lib\\site-packages (from tensorflow-intel==2.11.1->tensorflow==2.11.1) (2.11.0)\n",
      "Requirement already satisfied: packaging in c:\\users\\prachiti\\appdata\\local\\programs\\python\\python38\\lib\\site-packages (from tensorflow-intel==2.11.1->tensorflow==2.11.1) (21.3)\n",
      "Requirement already satisfied: astunparse>=1.6.0 in c:\\users\\prachiti\\appdata\\local\\programs\\python\\python38\\lib\\site-packages (from tensorflow-intel==2.11.1->tensorflow==2.11.1) (1.6.3)\n",
      "Requirement already satisfied: absl-py>=1.0.0 in c:\\users\\prachiti\\appdata\\local\\programs\\python\\python38\\lib\\site-packages (from tensorflow-intel==2.11.1->tensorflow==2.11.1) (1.4.0)\n",
      "Requirement already satisfied: grpcio<2.0,>=1.24.3 in c:\\users\\prachiti\\appdata\\local\\programs\\python\\python38\\lib\\site-packages (from tensorflow-intel==2.11.1->tensorflow==2.11.1) (1.51.1)\n",
      "Requirement already satisfied: termcolor>=1.1.0 in c:\\users\\prachiti\\appdata\\local\\programs\\python\\python38\\lib\\site-packages (from tensorflow-intel==2.11.1->tensorflow==2.11.1) (2.2.0)\n",
      "Requirement already satisfied: tensorflow-estimator<2.12,>=2.11.0 in c:\\users\\prachiti\\appdata\\local\\programs\\python\\python38\\lib\\site-packages (from tensorflow-intel==2.11.1->tensorflow==2.11.1) (2.11.0)\n",
      "Requirement already satisfied: h5py>=2.9.0 in c:\\users\\prachiti\\appdata\\local\\programs\\python\\python38\\lib\\site-packages (from tensorflow-intel==2.11.1->tensorflow==2.11.1) (2.10.0)\n",
      "Requirement already satisfied: wheel<1.0,>=0.23.0 in c:\\users\\prachiti\\appdata\\local\\programs\\python\\python38\\lib\\site-packages (from astunparse>=1.6.0->tensorflow-intel==2.11.1->tensorflow==2.11.1) (0.38.4)\n",
      "Requirement already satisfied: markdown>=2.6.8 in c:\\users\\prachiti\\appdata\\local\\programs\\python\\python38\\lib\\site-packages (from tensorboard<2.12,>=2.11->tensorflow-intel==2.11.1->tensorflow==2.11.1) (3.4.1)\n",
      "Requirement already satisfied: tensorboard-data-server<0.7.0,>=0.6.0 in c:\\users\\prachiti\\appdata\\local\\programs\\python\\python38\\lib\\site-packages (from tensorboard<2.12,>=2.11->tensorflow-intel==2.11.1->tensorflow==2.11.1) (0.6.1)\n",
      "Requirement already satisfied: google-auth<3,>=1.6.3 in c:\\users\\prachiti\\appdata\\local\\programs\\python\\python38\\lib\\site-packages (from tensorboard<2.12,>=2.11->tensorflow-intel==2.11.1->tensorflow==2.11.1) (1.35.0)\n",
      "Requirement already satisfied: werkzeug>=1.0.1 in c:\\users\\prachiti\\appdata\\local\\programs\\python\\python38\\lib\\site-packages (from tensorboard<2.12,>=2.11->tensorflow-intel==2.11.1->tensorflow==2.11.1) (2.2.2)\n",
      "Requirement already satisfied: requests<3,>=2.21.0 in c:\\users\\prachiti\\appdata\\local\\programs\\python\\python38\\lib\\site-packages (from tensorboard<2.12,>=2.11->tensorflow-intel==2.11.1->tensorflow==2.11.1) (2.27.1)\n",
      "Requirement already satisfied: google-auth-oauthlib<0.5,>=0.4.1 in c:\\users\\prachiti\\appdata\\local\\programs\\python\\python38\\lib\\site-packages (from tensorboard<2.12,>=2.11->tensorflow-intel==2.11.1->tensorflow==2.11.1) (0.4.6)\n",
      "Requirement already satisfied: tensorboard-plugin-wit>=1.6.0 in c:\\users\\prachiti\\appdata\\local\\programs\\python\\python38\\lib\\site-packages (from tensorboard<2.12,>=2.11->tensorflow-intel==2.11.1->tensorflow==2.11.1) (1.8.1)\n",
      "Requirement already satisfied: pyparsing!=3.0.5,>=2.0.2 in c:\\users\\prachiti\\appdata\\local\\programs\\python\\python38\\lib\\site-packages (from packaging->tensorflow-intel==2.11.1->tensorflow==2.11.1) (3.0.7)\n",
      "Requirement already satisfied: pyasn1-modules>=0.2.1 in c:\\users\\prachiti\\appdata\\local\\programs\\python\\python38\\lib\\site-packages (from google-auth<3,>=1.6.3->tensorboard<2.12,>=2.11->tensorflow-intel==2.11.1->tensorflow==2.11.1) (0.2.8)\n",
      "Requirement already satisfied: cachetools<5.0,>=2.0.0 in c:\\users\\prachiti\\appdata\\local\\programs\\python\\python38\\lib\\site-packages (from google-auth<3,>=1.6.3->tensorboard<2.12,>=2.11->tensorflow-intel==2.11.1->tensorflow==2.11.1) (4.2.4)\n",
      "Requirement already satisfied: rsa<5,>=3.1.4 in c:\\users\\prachiti\\appdata\\local\\programs\\python\\python38\\lib\\site-packages (from google-auth<3,>=1.6.3->tensorboard<2.12,>=2.11->tensorflow-intel==2.11.1->tensorflow==2.11.1) (4.9)\n",
      "Requirement already satisfied: requests-oauthlib>=0.7.0 in c:\\users\\prachiti\\appdata\\local\\programs\\python\\python38\\lib\\site-packages (from google-auth-oauthlib<0.5,>=0.4.1->tensorboard<2.12,>=2.11->tensorflow-intel==2.11.1->tensorflow==2.11.1) (1.3.1)\n",
      "Requirement already satisfied: importlib-metadata>=4.4 in c:\\users\\prachiti\\appdata\\local\\programs\\python\\python38\\lib\\site-packages (from markdown>=2.6.8->tensorboard<2.12,>=2.11->tensorflow-intel==2.11.1->tensorflow==2.11.1) (6.0.0)\n",
      "Requirement already satisfied: idna<4,>=2.5 in c:\\users\\prachiti\\appdata\\local\\programs\\python\\python38\\lib\\site-packages (from requests<3,>=2.21.0->tensorboard<2.12,>=2.11->tensorflow-intel==2.11.1->tensorflow==2.11.1) (3.3)\n",
      "Requirement already satisfied: urllib3<1.27,>=1.21.1 in c:\\users\\prachiti\\appdata\\local\\programs\\python\\python38\\lib\\site-packages (from requests<3,>=2.21.0->tensorboard<2.12,>=2.11->tensorflow-intel==2.11.1->tensorflow==2.11.1) (1.26.15)\n",
      "Requirement already satisfied: certifi>=2017.4.17 in c:\\users\\prachiti\\appdata\\roaming\\python\\python38\\site-packages (from requests<3,>=2.21.0->tensorboard<2.12,>=2.11->tensorflow-intel==2.11.1->tensorflow==2.11.1) (2021.10.8)\n",
      "Requirement already satisfied: charset-normalizer~=2.0.0 in c:\\users\\prachiti\\appdata\\local\\programs\\python\\python38\\lib\\site-packages (from requests<3,>=2.21.0->tensorboard<2.12,>=2.11->tensorflow-intel==2.11.1->tensorflow==2.11.1) (2.0.11)\n",
      "Requirement already satisfied: MarkupSafe>=2.1.1 in c:\\users\\prachiti\\appdata\\local\\programs\\python\\python38\\lib\\site-packages (from werkzeug>=1.0.1->tensorboard<2.12,>=2.11->tensorflow-intel==2.11.1->tensorflow==2.11.1) (2.1.2)\n",
      "Requirement already satisfied: zipp>=0.5 in c:\\users\\prachiti\\appdata\\local\\programs\\python\\python38\\lib\\site-packages (from importlib-metadata>=4.4->markdown>=2.6.8->tensorboard<2.12,>=2.11->tensorflow-intel==2.11.1->tensorflow==2.11.1) (3.7.0)\n",
      "Requirement already satisfied: pyasn1<0.5.0,>=0.4.6 in c:\\users\\prachiti\\appdata\\local\\programs\\python\\python38\\lib\\site-packages (from pyasn1-modules>=0.2.1->google-auth<3,>=1.6.3->tensorboard<2.12,>=2.11->tensorflow-intel==2.11.1->tensorflow==2.11.1) (0.4.8)\n",
      "Requirement already satisfied: oauthlib>=3.0.0 in c:\\users\\prachiti\\appdata\\local\\programs\\python\\python38\\lib\\site-packages (from requests-oauthlib>=0.7.0->google-auth-oauthlib<0.5,>=0.4.1->tensorboard<2.12,>=2.11->tensorflow-intel==2.11.1->tensorflow==2.11.1) (3.2.2)\n",
      "Installing collected packages: tensorflow-intel, tensorflow\n",
      "  Attempting uninstall: tensorflow-intel\n",
      "    Found existing installation: tensorflow-intel 2.11.0\n",
      "    Uninstalling tensorflow-intel-2.11.0:\n",
      "      Successfully uninstalled tensorflow-intel-2.11.0\n"
     ]
    },
    {
     "name": "stderr",
     "output_type": "stream",
     "text": [
      "ERROR: Could not install packages due to an OSError: [WinError 5] Access is denied: 'C:\\\\Users\\\\Prachiti\\\\AppData\\\\Local\\\\Temp\\\\pip-uninstall-4gw0rxdj\\\\python\\\\_pywrap_mlir.pyd'\n",
      "Consider using the `--user` option or check the permissions.\n",
      "\n"
     ]
    }
   ],
   "source": [
    "!pip install tensorflow==2.11.1 "
   ]
  },
  {
   "cell_type": "code",
   "execution_count": 4,
   "id": "ef3ca079",
   "metadata": {},
   "outputs": [
    {
     "name": "stdout",
     "output_type": "stream",
     "text": [
      "Requirement already satisfied: pip in c:\\users\\prachiti\\appdata\\local\\programs\\python\\python38\\lib\\site-packages (23.0.1)"
     ]
    },
    {
     "name": "stderr",
     "output_type": "stream",
     "text": [
      "WARNING: Ignoring invalid distribution -ensorflow-intel (c:\\users\\prachiti\\appdata\\local\\programs\\python\\python38\\lib\\site-packages)\n",
      "WARNING: Ignoring invalid distribution -ensorflow-intel (c:\\users\\prachiti\\appdata\\local\\programs\\python\\python38\\lib\\site-packages)\n",
      "WARNING: Ignoring invalid distribution -ensorflow-intel (c:\\users\\prachiti\\appdata\\local\\programs\\python\\python38\\lib\\site-packages)\n",
      "WARNING: Ignoring invalid distribution -ensorflow-intel (c:\\users\\prachiti\\appdata\\local\\programs\\python\\python38\\lib\\site-packages)\n",
      "WARNING: Ignoring invalid distribution -ensorflow-intel (c:\\users\\prachiti\\appdata\\local\\programs\\python\\python38\\lib\\site-packages)\n",
      "WARNING: Ignoring invalid distribution -ensorflow-intel (c:\\users\\prachiti\\appdata\\local\\programs\\python\\python38\\lib\\site-packages)\n"
     ]
    },
    {
     "name": "stdout",
     "output_type": "stream",
     "text": [
      "\n"
     ]
    }
   ],
   "source": [
    "!python -m pip install --upgrade pip"
   ]
  },
  {
   "cell_type": "code",
   "execution_count": 5,
   "id": "e9ee784e",
   "metadata": {},
   "outputs": [
    {
     "name": "stdout",
     "output_type": "stream",
     "text": [
      "Requirement already satisfied: tensorboard==2.11.0 in c:\\users\\prachiti\\appdata\\local\\programs\\python\\python38\\lib\\site-packages (2.11.0)\n",
      "Requirement already satisfied: absl-py>=0.4 in c:\\users\\prachiti\\appdata\\local\\programs\\python\\python38\\lib\\site-packages (from tensorboard==2.11.0) (1.4.0)\n",
      "Requirement already satisfied: google-auth<3,>=1.6.3 in c:\\users\\prachiti\\appdata\\local\\programs\\python\\python38\\lib\\site-packages (from tensorboard==2.11.0) (1.35.0)\n",
      "Requirement already satisfied: google-auth-oauthlib<0.5,>=0.4.1 in c:\\users\\prachiti\\appdata\\local\\programs\\python\\python38\\lib\\site-packages (from tensorboard==2.11.0) (0.4.6)\n",
      "Requirement already satisfied: markdown>=2.6.8 in c:\\users\\prachiti\\appdata\\local\\programs\\python\\python38\\lib\\site-packages (from tensorboard==2.11.0) (3.4.1)\n",
      "Requirement already satisfied: tensorboard-data-server<0.7.0,>=0.6.0 in c:\\users\\prachiti\\appdata\\local\\programs\\python\\python38\\lib\\site-packages (from tensorboard==2.11.0) (0.6.1)\n",
      "Requirement already satisfied: wheel>=0.26 in c:\\users\\prachiti\\appdata\\local\\programs\\python\\python38\\lib\\site-packages (from tensorboard==2.11.0) (0.38.4)\n",
      "Requirement already satisfied: tensorboard-plugin-wit>=1.6.0 in c:\\users\\prachiti\\appdata\\local\\programs\\python\\python38\\lib\\site-packages (from tensorboard==2.11.0) (1.8.1)\n",
      "Requirement already satisfied: setuptools>=41.0.0 in c:\\users\\prachiti\\appdata\\local\\programs\\python\\python38\\lib\\site-packages (from tensorboard==2.11.0) (67.6.0)\n",
      "Requirement already satisfied: requests<3,>=2.21.0 in c:\\users\\prachiti\\appdata\\local\\programs\\python\\python38\\lib\\site-packages (from tensorboard==2.11.0) (2.27.1)\n",
      "Requirement already satisfied: werkzeug>=1.0.1 in c:\\users\\prachiti\\appdata\\local\\programs\\python\\python38\\lib\\site-packages (from tensorboard==2.11.0) (2.2.2)\n",
      "Requirement already satisfied: numpy>=1.12.0 in c:\\users\\prachiti\\appdata\\local\\programs\\python\\python38\\lib\\site-packages (from tensorboard==2.11.0) (1.24.2)\n",
      "Requirement already satisfied: protobuf<4,>=3.9.2 in c:\\users\\prachiti\\appdata\\local\\programs\\python\\python38\\lib\\site-packages (from tensorboard==2.11.0) (3.19.6)\n",
      "Requirement already satisfied: grpcio>=1.24.3 in c:\\users\\prachiti\\appdata\\local\\programs\\python\\python38\\lib\\site-packages (from tensorboard==2.11.0) (1.51.1)\n",
      "Requirement already satisfied: cachetools<5.0,>=2.0.0 in c:\\users\\prachiti\\appdata\\local\\programs\\python\\python38\\lib\\site-packages (from google-auth<3,>=1.6.3->tensorboard==2.11.0) (4.2.4)\n",
      "Requirement already satisfied: six>=1.9.0 in c:\\users\\prachiti\\appdata\\local\\programs\\python\\python38\\lib\\site-packages (from google-auth<3,>=1.6.3->tensorboard==2.11.0) (1.16.0)\n",
      "Requirement already satisfied: pyasn1-modules>=0.2.1 in c:\\users\\prachiti\\appdata\\local\\programs\\python\\python38\\lib\\site-packages (from google-auth<3,>=1.6.3->tensorboard==2.11.0) (0.2.8)\n",
      "Requirement already satisfied: rsa<5,>=3.1.4 in c:\\users\\prachiti\\appdata\\local\\programs\\python\\python38\\lib\\site-packages (from google-auth<3,>=1.6.3->tensorboard==2.11.0) (4.9)\n",
      "Requirement already satisfied: requests-oauthlib>=0.7.0 in c:\\users\\prachiti\\appdata\\local\\programs\\python\\python38\\lib\\site-packages (from google-auth-oauthlib<0.5,>=0.4.1->tensorboard==2.11.0) (1.3.1)\n",
      "Requirement already satisfied: importlib-metadata>=4.4 in c:\\users\\prachiti\\appdata\\local\\programs\\python\\python38\\lib\\site-packages (from markdown>=2.6.8->tensorboard==2.11.0) (6.0.0)\n",
      "Requirement already satisfied: urllib3<1.27,>=1.21.1 in c:\\users\\prachiti\\appdata\\local\\programs\\python\\python38\\lib\\site-packages (from requests<3,>=2.21.0->tensorboard==2.11.0) (1.26.15)\n",
      "Requirement already satisfied: charset-normalizer~=2.0.0 in c:\\users\\prachiti\\appdata\\local\\programs\\python\\python38\\lib\\site-packages (from requests<3,>=2.21.0->tensorboard==2.11.0) (2.0.11)\n",
      "Requirement already satisfied: idna<4,>=2.5 in c:\\users\\prachiti\\appdata\\local\\programs\\python\\python38\\lib\\site-packages (from requests<3,>=2.21.0->tensorboard==2.11.0) (3.3)\n",
      "Requirement already satisfied: certifi>=2017.4.17 in c:\\users\\prachiti\\appdata\\roaming\\python\\python38\\site-packages (from requests<3,>=2.21.0->tensorboard==2.11.0) (2021.10.8)\n",
      "Requirement already satisfied: MarkupSafe>=2.1.1 in c:\\users\\prachiti\\appdata\\local\\programs\\python\\python38\\lib\\site-packages (from werkzeug>=1.0.1->tensorboard==2.11.0) (2.1.2)\n",
      "Requirement already satisfied: zipp>=0.5 in c:\\users\\prachiti\\appdata\\local\\programs\\python\\python38\\lib\\site-packages (from importlib-metadata>=4.4->markdown>=2.6.8->tensorboard==2.11.0) (3.7.0)\n"
     ]
    },
    {
     "name": "stderr",
     "output_type": "stream",
     "text": [
      "WARNING: Ignoring invalid distribution -ensorflow-intel (c:\\users\\prachiti\\appdata\\local\\programs\\python\\python38\\lib\\site-packages)\n",
      "WARNING: Ignoring invalid distribution -ensorflow-intel (c:\\users\\prachiti\\appdata\\local\\programs\\python\\python38\\lib\\site-packages)\n",
      "WARNING: Ignoring invalid distribution -ensorflow-intel (c:\\users\\prachiti\\appdata\\local\\programs\\python\\python38\\lib\\site-packages)\n",
      "WARNING: Ignoring invalid distribution -ensorflow-intel (c:\\users\\prachiti\\appdata\\local\\programs\\python\\python38\\lib\\site-packages)\n",
      "WARNING: Ignoring invalid distribution -ensorflow-intel (c:\\users\\prachiti\\appdata\\local\\programs\\python\\python38\\lib\\site-packages)\n",
      "WARNING: Ignoring invalid distribution -ensorflow-intel (c:\\users\\prachiti\\appdata\\local\\programs\\python\\python38\\lib\\site-packages)\n"
     ]
    },
    {
     "name": "stdout",
     "output_type": "stream",
     "text": [
      "Requirement already satisfied: pyasn1<0.5.0,>=0.4.6 in c:\\users\\prachiti\\appdata\\local\\programs\\python\\python38\\lib\\site-packages (from pyasn1-modules>=0.2.1->google-auth<3,>=1.6.3->tensorboard==2.11.0) (0.4.8)\n",
      "Requirement already satisfied: oauthlib>=3.0.0 in c:\\users\\prachiti\\appdata\\local\\programs\\python\\python38\\lib\\site-packages (from requests-oauthlib>=0.7.0->google-auth-oauthlib<0.5,>=0.4.1->tensorboard==2.11.0) (3.2.2)\n"
     ]
    }
   ],
   "source": [
    "!pip install tensorboard==2.11.0"
   ]
  },
  {
   "cell_type": "code",
   "execution_count": 6,
   "id": "ea4abf15",
   "metadata": {},
   "outputs": [
    {
     "name": "stdout",
     "output_type": "stream",
     "text": [
      "Requirement already satisfied: torch in c:\\users\\prachiti\\appdata\\local\\programs\\python\\python38\\lib\\site-packages (2.0.0)\n",
      "Requirement already satisfied: networkx in c:\\users\\prachiti\\appdata\\local\\programs\\python\\python38\\lib\\site-packages (from torch) (3.0)\n",
      "Requirement already satisfied: typing-extensions in c:\\users\\prachiti\\appdata\\local\\programs\\python\\python38\\lib\\site-packages (from torch) (4.0.1)\n",
      "Requirement already satisfied: filelock in c:\\users\\prachiti\\appdata\\roaming\\python\\python38\\site-packages (from torch) (3.4.2)\n",
      "Requirement already satisfied: jinja2 in c:\\users\\prachiti\\appdata\\local\\programs\\python\\python38\\lib\\site-packages (from torch) (3.0.3)\n",
      "Requirement already satisfied: sympy in c:\\users\\prachiti\\appdata\\local\\programs\\python\\python38\\lib\\site-packages (from torch) (1.11.1)\n",
      "Requirement already satisfied: MarkupSafe>=2.0 in c:\\users\\prachiti\\appdata\\local\\programs\\python\\python38\\lib\\site-packages (from jinja2->torch) (2.1.2)\n",
      "Requirement already satisfied: mpmath>=0.19 in c:\\users\\prachiti\\appdata\\local\\programs\\python\\python38\\lib\\site-packages (from sympy->torch) (1.3.0)\n"
     ]
    },
    {
     "name": "stderr",
     "output_type": "stream",
     "text": [
      "WARNING: Ignoring invalid distribution -ensorflow-intel (c:\\users\\prachiti\\appdata\\local\\programs\\python\\python38\\lib\\site-packages)\n",
      "WARNING: Ignoring invalid distribution -ensorflow-intel (c:\\users\\prachiti\\appdata\\local\\programs\\python\\python38\\lib\\site-packages)\n",
      "WARNING: Ignoring invalid distribution -ensorflow-intel (c:\\users\\prachiti\\appdata\\local\\programs\\python\\python38\\lib\\site-packages)\n",
      "WARNING: Ignoring invalid distribution -ensorflow-intel (c:\\users\\prachiti\\appdata\\local\\programs\\python\\python38\\lib\\site-packages)\n",
      "WARNING: Ignoring invalid distribution -ensorflow-intel (c:\\users\\prachiti\\appdata\\local\\programs\\python\\python38\\lib\\site-packages)\n",
      "WARNING: Ignoring invalid distribution -ensorflow-intel (c:\\users\\prachiti\\appdata\\local\\programs\\python\\python38\\lib\\site-packages)\n"
     ]
    }
   ],
   "source": [
    "!pip install torch  "
   ]
  },
  {
   "cell_type": "code",
   "execution_count": 1,
   "id": "c70caa72",
   "metadata": {},
   "outputs": [],
   "source": [
    "import torch # YOLOv5 implemented using pytorch\n"
   ]
  },
  {
   "cell_type": "code",
   "execution_count": 2,
   "id": "3b11722f",
   "metadata": {},
   "outputs": [],
   "source": [
    "from IPython.display import Image #this is to render predictions"
   ]
  },
  {
   "cell_type": "code",
   "execution_count": 1,
   "id": "b94a8c16",
   "metadata": {},
   "outputs": [
    {
     "name": "stdout",
     "output_type": "stream",
     "text": [
      " Volume in drive C is Windows\n",
      " Volume Serial Number is BAE4-F5CA\n",
      "\n",
      " Directory of c:\\Users\\Prachiti\\OneDrive\\Desktop\\plant_YOLO\\plant_YOLO1\n",
      "\n",
      "14-04-2023  21:49    <DIR>          .\n",
      "14-04-2023  20:11    <DIR>          ..\n",
      "14-04-2023  20:19    <DIR>          .ipynb_checkpoints\n",
      "14-04-2023  19:11    <DIR>          dataset\n",
      "14-04-2023  21:49            51,455 plant_YOLO1.ipynb\n",
      "14-04-2023  19:49             2,487 Untitled1.ipynb\n",
      "14-04-2023  19:14    <DIR>          yolov5\n",
      "               2 File(s)         53,942 bytes\n",
      "               5 Dir(s)  11,955,814,400 bytes free\n"
     ]
    }
   ],
   "source": [
    "ls"
   ]
  },
  {
   "cell_type": "code",
   "execution_count": 4,
   "id": "272d9656",
   "metadata": {},
   "outputs": [
    {
     "name": "stdout",
     "output_type": "stream",
     "text": [
      "C:\\Users\\Prachiti\\OneDrive\\Desktop\\plant_YOLO\\plant_YOLO1\\yolov5\n"
     ]
    }
   ],
   "source": [
    "%cd yolov5"
   ]
  },
  {
   "cell_type": "code",
   "execution_count": 5,
   "id": "ba105a0f",
   "metadata": {},
   "outputs": [
    {
     "name": "stdout",
     "output_type": "stream",
     "text": [
      "Requirement already satisfied: gitpython>=3.1.30 in c:\\users\\prachiti\\appdata\\local\\programs\\python\\python38\\lib\\site-packages (from -r requirements.txt (line 5)) (3.1.31)\n",
      "Requirement already satisfied: matplotlib>=3.3 in c:\\users\\prachiti\\appdata\\local\\programs\\python\\python38\\lib\\site-packages (from -r requirements.txt (line 6)) (3.5.1)\n",
      "Requirement already satisfied: numpy>=1.18.5 in c:\\users\\prachiti\\appdata\\local\\programs\\python\\python38\\lib\\site-packages (from -r requirements.txt (line 7)) (1.20.3)\n",
      "Requirement already satisfied: opencv-python>=4.1.1 in c:\\users\\prachiti\\appdata\\local\\programs\\python\\python38\\lib\\site-packages (from -r requirements.txt (line 8)) (4.7.0.72)\n",
      "Requirement already satisfied: Pillow>=7.1.2 in c:\\users\\prachiti\\appdata\\local\\programs\\python\\python38\\lib\\site-packages (from -r requirements.txt (line 9)) (9.1.0)\n",
      "Requirement already satisfied: psutil in c:\\users\\prachiti\\appdata\\local\\programs\\python\\python38\\lib\\site-packages (from -r requirements.txt (line 10)) (5.9.4)\n",
      "Requirement already satisfied: PyYAML>=5.3.1 in c:\\users\\prachiti\\appdata\\local\\programs\\python\\python38\\lib\\site-packages (from -r requirements.txt (line 11)) (6.0)\n",
      "Requirement already satisfied: requests>=2.23.0 in c:\\users\\prachiti\\appdata\\local\\programs\\python\\python38\\lib\\site-packages (from -r requirements.txt (line 12)) (2.27.1)\n",
      "Requirement already satisfied: scipy>=1.4.1 in c:\\users\\prachiti\\appdata\\local\\programs\\python\\python38\\lib\\site-packages (from -r requirements.txt (line 13)) (1.10.0)\n",
      "Requirement already satisfied: thop>=0.1.1 in c:\\users\\prachiti\\appdata\\local\\programs\\python\\python38\\lib\\site-packages (from -r requirements.txt (line 14)) (0.1.1.post2209072238)\n",
      "Requirement already satisfied: torch>=1.7.0 in c:\\users\\prachiti\\appdata\\local\\programs\\python\\python38\\lib\\site-packages (from -r requirements.txt (line 15)) (2.0.0)\n",
      "Requirement already satisfied: torchvision>=0.8.1 in c:\\users\\prachiti\\appdata\\local\\programs\\python\\python38\\lib\\site-packages (from -r requirements.txt (line 16)) (0.15.1)\n",
      "Requirement already satisfied: tqdm>=4.64.0 in c:\\users\\prachiti\\appdata\\local\\programs\\python\\python38\\lib\\site-packages (from -r requirements.txt (line 17)) (4.64.1)\n",
      "Requirement already satisfied: tensorboard>=2.4.1 in c:\\users\\prachiti\\appdata\\local\\programs\\python\\python38\\lib\\site-packages (from -r requirements.txt (line 21)) (2.4.1)\n",
      "Requirement already satisfied: pandas>=1.1.4 in c:\\users\\prachiti\\appdata\\local\\programs\\python\\python38\\lib\\site-packages (from -r requirements.txt (line 26)) (1.5.3)\n",
      "Requirement already satisfied: seaborn>=0.11.0 in c:\\users\\prachiti\\appdata\\local\\programs\\python\\python38\\lib\\site-packages (from -r requirements.txt (line 27)) (0.12.2)\n",
      "Requirement already satisfied: setuptools>=65.5.1 in c:\\users\\prachiti\\appdata\\local\\programs\\python\\python38\\lib\\site-packages (from -r requirements.txt (line 41)) (67.6.0)\n",
      "Requirement already satisfied: gitdb<5,>=4.0.1 in c:\\users\\prachiti\\appdata\\local\\programs\\python\\python38\\lib\\site-packages (from gitpython>=3.1.30->-r requirements.txt (line 5)) (4.0.10)\n",
      "Requirement already satisfied: pyparsing>=2.2.1 in c:\\users\\prachiti\\appdata\\local\\programs\\python\\python38\\lib\\site-packages (from matplotlib>=3.3->-r requirements.txt (line 6)) (3.0.7)\n",
      "Requirement already satisfied: fonttools>=4.22.0 in c:\\users\\prachiti\\appdata\\local\\programs\\python\\python38\\lib\\site-packages (from matplotlib>=3.3->-r requirements.txt (line 6)) (4.33.2)\n",
      "Requirement already satisfied: python-dateutil>=2.7 in c:\\users\\prachiti\\appdata\\local\\programs\\python\\python38\\lib\\site-packages (from matplotlib>=3.3->-r requirements.txt (line 6)) (2.8.2)\n",
      "Requirement already satisfied: cycler>=0.10 in c:\\users\\prachiti\\appdata\\local\\programs\\python\\python38\\lib\\site-packages (from matplotlib>=3.3->-r requirements.txt (line 6)) (0.11.0)\n",
      "Requirement already satisfied: kiwisolver>=1.0.1 in c:\\users\\prachiti\\appdata\\local\\programs\\python\\python38\\lib\\site-packages (from matplotlib>=3.3->-r requirements.txt (line 6)) (1.4.2)\n",
      "Requirement already satisfied: packaging>=20.0 in c:\\users\\prachiti\\appdata\\local\\programs\\python\\python38\\lib\\site-packages (from matplotlib>=3.3->-r requirements.txt (line 6)) (21.3)\n",
      "Requirement already satisfied: urllib3<1.27,>=1.21.1 in c:\\users\\prachiti\\appdata\\local\\programs\\python\\python38\\lib\\site-packages (from requests>=2.23.0->-r requirements.txt (line 12)) (1.26.15)\n",
      "Requirement already satisfied: charset-normalizer~=2.0.0 in c:\\users\\prachiti\\appdata\\local\\programs\\python\\python38\\lib\\site-packages (from requests>=2.23.0->-r requirements.txt (line 12)) (2.0.11)\n",
      "Requirement already satisfied: certifi>=2017.4.17 in c:\\users\\prachiti\\appdata\\roaming\\python\\python38\\site-packages (from requests>=2.23.0->-r requirements.txt (line 12)) (2021.10.8)\n",
      "Requirement already satisfied: idna<4,>=2.5 in c:\\users\\prachiti\\appdata\\local\\programs\\python\\python38\\lib\\site-packages (from requests>=2.23.0->-r requirements.txt (line 12)) (3.3)\n",
      "Requirement already satisfied: jinja2 in c:\\users\\prachiti\\appdata\\local\\programs\\python\\python38\\lib\\site-packages (from torch>=1.7.0->-r requirements.txt (line 15)) (3.0.3)\n",
      "Requirement already satisfied: typing-extensions in c:\\users\\prachiti\\appdata\\local\\programs\\python\\python38\\lib\\site-packages (from torch>=1.7.0->-r requirements.txt (line 15)) (4.0.1)\n",
      "Requirement already satisfied: filelock in c:\\users\\prachiti\\appdata\\roaming\\python\\python38\\site-packages (from torch>=1.7.0->-r requirements.txt (line 15)) (3.4.2)\n",
      "Requirement already satisfied: sympy in c:\\users\\prachiti\\appdata\\local\\programs\\python\\python38\\lib\\site-packages (from torch>=1.7.0->-r requirements.txt (line 15)) (1.11.1)\n",
      "Requirement already satisfied: networkx in c:\\users\\prachiti\\appdata\\local\\programs\\python\\python38\\lib\\site-packages (from torch>=1.7.0->-r requirements.txt (line 15)) (3.0)\n",
      "Requirement already satisfied: colorama in c:\\users\\prachiti\\appdata\\local\\programs\\python\\python38\\lib\\site-packages (from tqdm>=4.64.0->-r requirements.txt (line 17)) (0.4.4)\n",
      "Requirement already satisfied: six>=1.10.0 in c:\\users\\prachiti\\appdata\\local\\programs\\python\\python38\\lib\\site-packages (from tensorboard>=2.4.1->-r requirements.txt (line 21)) (1.16.0)\n",
      "Requirement already satisfied: tensorboard-plugin-wit>=1.6.0 in c:\\users\\prachiti\\appdata\\local\\programs\\python\\python38\\lib\\site-packages (from tensorboard>=2.4.1->-r requirements.txt (line 21)) (1.8.1)\n",
      "Requirement already satisfied: grpcio>=1.24.3 in c:\\users\\prachiti\\appdata\\local\\programs\\python\\python38\\lib\\site-packages (from tensorboard>=2.4.1->-r requirements.txt (line 21)) (1.51.1)\n",
      "Requirement already satisfied: absl-py>=0.4 in c:\\users\\prachiti\\appdata\\local\\programs\\python\\python38\\lib\\site-packages (from tensorboard>=2.4.1->-r requirements.txt (line 21)) (1.4.0)\n",
      "Requirement already satisfied: wheel>=0.26 in c:\\users\\prachiti\\appdata\\local\\programs\\python\\python38\\lib\\site-packages (from tensorboard>=2.4.1->-r requirements.txt (line 21)) (0.38.4)\n",
      "Requirement already satisfied: werkzeug>=0.11.15 in c:\\users\\prachiti\\appdata\\local\\programs\\python\\python38\\lib\\site-packages (from tensorboard>=2.4.1->-r requirements.txt (line 21)) (2.2.2)\n",
      "Requirement already satisfied: google-auth-oauthlib<0.5,>=0.4.1 in c:\\users\\prachiti\\appdata\\local\\programs\\python\\python38\\lib\\site-packages (from tensorboard>=2.4.1->-r requirements.txt (line 21)) (0.4.6)\n",
      "Requirement already satisfied: protobuf>=3.6.0 in c:\\users\\prachiti\\appdata\\local\\programs\\python\\python38\\lib\\site-packages (from tensorboard>=2.4.1->-r requirements.txt (line 21)) (3.19.6)\n",
      "Requirement already satisfied: markdown>=2.6.8 in c:\\users\\prachiti\\appdata\\local\\programs\\python\\python38\\lib\\site-packages (from tensorboard>=2.4.1->-r requirements.txt (line 21)) (3.4.1)\n",
      "Requirement already satisfied: google-auth<2,>=1.6.3 in c:\\users\\prachiti\\appdata\\local\\programs\\python\\python38\\lib\\site-packages (from tensorboard>=2.4.1->-r requirements.txt (line 21)) (1.35.0)\n",
      "Requirement already satisfied: pytz>=2020.1 in c:\\users\\prachiti\\appdata\\local\\programs\\python\\python38\\lib\\site-packages (from pandas>=1.1.4->-r requirements.txt (line 26)) (2022.7.1)\n",
      "Requirement already satisfied: smmap<6,>=3.0.1 in c:\\users\\prachiti\\appdata\\local\\programs\\python\\python38\\lib\\site-packages (from gitdb<5,>=4.0.1->gitpython>=3.1.30->-r requirements.txt (line 5)) (5.0.0)\n",
      "Requirement already satisfied: cachetools<5.0,>=2.0.0 in c:\\users\\prachiti\\appdata\\local\\programs\\python\\python38\\lib\\site-packages (from google-auth<2,>=1.6.3->tensorboard>=2.4.1->-r requirements.txt (line 21)) (4.2.4)"
     ]
    },
    {
     "name": "stderr",
     "output_type": "stream",
     "text": [
      "WARNING: Ignoring invalid distribution -ensorflow-intel (c:\\users\\prachiti\\appdata\\local\\programs\\python\\python38\\lib\\site-packages)\n",
      "WARNING: Ignoring invalid distribution -ensorflow-intel (c:\\users\\prachiti\\appdata\\local\\programs\\python\\python38\\lib\\site-packages)\n",
      "WARNING: Ignoring invalid distribution -ensorflow-intel (c:\\users\\prachiti\\appdata\\local\\programs\\python\\python38\\lib\\site-packages)\n",
      "WARNING: Ignoring invalid distribution -ensorflow-intel (c:\\users\\prachiti\\appdata\\local\\programs\\python\\python38\\lib\\site-packages)\n",
      "WARNING: Ignoring invalid distribution -ensorflow-intel (c:\\users\\prachiti\\appdata\\local\\programs\\python\\python38\\lib\\site-packages)\n",
      "WARNING: Ignoring invalid distribution -ensorflow-intel (c:\\users\\prachiti\\appdata\\local\\programs\\python\\python38\\lib\\site-packages)\n"
     ]
    },
    {
     "name": "stdout",
     "output_type": "stream",
     "text": [
      "\n",
      "Requirement already satisfied: rsa<5,>=3.1.4 in c:\\users\\prachiti\\appdata\\local\\programs\\python\\python38\\lib\\site-packages (from google-auth<2,>=1.6.3->tensorboard>=2.4.1->-r requirements.txt (line 21)) (4.9)\n",
      "Requirement already satisfied: pyasn1-modules>=0.2.1 in c:\\users\\prachiti\\appdata\\local\\programs\\python\\python38\\lib\\site-packages (from google-auth<2,>=1.6.3->tensorboard>=2.4.1->-r requirements.txt (line 21)) (0.2.8)\n",
      "Requirement already satisfied: requests-oauthlib>=0.7.0 in c:\\users\\prachiti\\appdata\\local\\programs\\python\\python38\\lib\\site-packages (from google-auth-oauthlib<0.5,>=0.4.1->tensorboard>=2.4.1->-r requirements.txt (line 21)) (1.3.1)\n",
      "Requirement already satisfied: importlib-metadata>=4.4 in c:\\users\\prachiti\\appdata\\local\\programs\\python\\python38\\lib\\site-packages (from markdown>=2.6.8->tensorboard>=2.4.1->-r requirements.txt (line 21)) (6.0.0)\n",
      "Requirement already satisfied: MarkupSafe>=2.1.1 in c:\\users\\prachiti\\appdata\\local\\programs\\python\\python38\\lib\\site-packages (from werkzeug>=0.11.15->tensorboard>=2.4.1->-r requirements.txt (line 21)) (2.1.2)\n",
      "Requirement already satisfied: mpmath>=0.19 in c:\\users\\prachiti\\appdata\\local\\programs\\python\\python38\\lib\\site-packages (from sympy->torch>=1.7.0->-r requirements.txt (line 15)) (1.3.0)\n",
      "Requirement already satisfied: zipp>=0.5 in c:\\users\\prachiti\\appdata\\local\\programs\\python\\python38\\lib\\site-packages (from importlib-metadata>=4.4->markdown>=2.6.8->tensorboard>=2.4.1->-r requirements.txt (line 21)) (3.7.0)\n",
      "Requirement already satisfied: pyasn1<0.5.0,>=0.4.6 in c:\\users\\prachiti\\appdata\\local\\programs\\python\\python38\\lib\\site-packages (from pyasn1-modules>=0.2.1->google-auth<2,>=1.6.3->tensorboard>=2.4.1->-r requirements.txt (line 21)) (0.4.8)\n",
      "Requirement already satisfied: oauthlib>=3.0.0 in c:\\users\\prachiti\\appdata\\local\\programs\\python\\python38\\lib\\site-packages (from requests-oauthlib>=0.7.0->google-auth-oauthlib<0.5,>=0.4.1->tensorboard>=2.4.1->-r requirements.txt (line 21)) (3.2.2)\n"
     ]
    }
   ],
   "source": [
    "!pip install -r requirements.txt"
   ]
  },
  {
   "cell_type": "markdown",
   "id": "b439e9e8",
   "metadata": {},
   "source": [
    "# Dividing the dataset in train and val folder."
   ]
  },
  {
   "cell_type": "code",
   "execution_count": 6,
   "id": "66df01e3",
   "metadata": {},
   "outputs": [
    {
     "name": "stdout",
     "output_type": "stream",
     "text": [
      "training images are :  80\n",
      "Validation images are :  20\n"
     ]
    }
   ],
   "source": [
    "#already splitted\n",
    "import os\n",
    "from random import choice\n",
    "import shutil\n",
    "\n",
    "#arrays to store file names\n",
    "imgs =[]\n",
    "xmls =[]\n",
    "\n",
    "#setup dir names\n",
    "trainPath = r'C:\\Users\\Prachiti\\OneDrive\\Desktop\\plant_YOLO\\plant_YOLO1\\dataset\\images\\train'\n",
    "valPath = r'C:\\Users\\Prachiti\\OneDrive\\Desktop\\plant_YOLO\\plant_YOLO1\\dataset\\images\\val'\n",
    "crsPath = r\"C:\\Users\\Prachiti\\OneDrive\\Desktop\\plant_YOLO\\plant_YOLO1\\NeemBohera\" #dir where images and annotations stored\n",
    "\n",
    "#setup ratio (val ratio = rest of the files in origin dir after splitting into train and test)\n",
    "train_ratio = 0.8\n",
    "val_ratio = 0.2\n",
    "\n",
    "\n",
    "#total count of imgs\n",
    "totalImgCount = len(os.listdir(crsPath))/2\n",
    "\n",
    "#soring files to corresponding arrays\n",
    "for (dirname, dirs, files) in os.walk(crsPath):\n",
    "    for filename in files:\n",
    "        if filename.endswith('.txt'):\n",
    "            xmls.append(filename)\n",
    "        else:\n",
    "            imgs.append(filename)\n",
    "\n",
    "\n",
    "#counting range for cycles\n",
    "countForTrain = int(len(imgs)*train_ratio)\n",
    "countForVal = int(len(imgs)*val_ratio)\n",
    "print(\"training images are : \",countForTrain)\n",
    "print(\"Validation images are : \",countForVal)"
   ]
  },
  {
   "cell_type": "code",
   "execution_count": 7,
   "id": "f95870e8",
   "metadata": {},
   "outputs": [
    {
     "data": {
      "text/plain": [
       "'C:\\\\Users\\\\Prachiti\\\\OneDrive\\\\Desktop\\\\plant_YOLO\\\\plant_YOLO1\\\\dataset\\\\images\\\\val\\\\NeemBohera'"
      ]
     },
     "execution_count": 7,
     "metadata": {},
     "output_type": "execute_result"
    }
   ],
   "source": [
    "\n",
    "trainimagePath = r'C:\\Users\\Prachiti\\OneDrive\\Desktop\\plant_YOLO\\plant_YOLO1\\dataset\\images\\train'\n",
    "trainlabelPath =  r'C:\\Users\\Prachiti\\OneDrive\\Desktop\\plant_YOLO\\plant_YOLO1\\dataset\\labels\\train'\n",
    "valimagePath =  r'C:\\Users\\Prachiti\\OneDrive\\Desktop\\plant_YOLO\\plant_YOLO1\\dataset\\images\\val'\n",
    "vallabelPath =  r'C:\\Users\\Prachiti\\OneDrive\\Desktop\\plant_YOLO\\plant_YOLO1\\dataset\\labels\\val'\n",
    "#cycle for train dir\n",
    "for x in range(countForTrain):\n",
    "\n",
    "    fileJpg = choice(imgs) # get name of random image from origin dir\n",
    "    fileXml = fileJpg[:-4] +'.txt' # get name of corresponding annotation file\n",
    "\n",
    "    #move both files into train dir\n",
    "    #shutil.move(os.path.join(crsPath, fileJpg), os.path.join(trainimagePath, fileJpg))\n",
    "    #shutil.move(os.path.join(crsPath, fileXml), os.path.join(trainlabelPath, fileXml))\n",
    "    shutil.copy(os.path.join(crsPath, fileJpg), os.path.join(trainimagePath, fileJpg))\n",
    "    shutil.copy(os.path.join(crsPath, fileXml), os.path.join(trainlabelPath, fileXml))\n",
    "\n",
    "\n",
    "    #remove files from arrays\n",
    "    imgs.remove(fileJpg)\n",
    "    xmls.remove(fileXml)\n",
    "\n",
    "\n",
    "\n",
    "#cycle for test dir   \n",
    "for x in range(countForVal):\n",
    "\n",
    "    fileJpg = choice(imgs) # get name of random image from origin dir\n",
    "    fileXml = fileJpg[:-4] +'.txt' # get name of corresponding annotation file\n",
    "\n",
    "    #move both files into train dir\n",
    "    #shutil.move(os.path.join(crsPath, fileJpg), os.path.join(valimagePath, fileJpg))\n",
    "    #shutil.move(os.path.join(crsPath, fileXml), os.path.join(vallabelPath, fileXml))\n",
    "    shutil.copy(os.path.join(crsPath, fileJpg), os.path.join(valimagePath, fileJpg))\n",
    "    shutil.copy(os.path.join(crsPath, fileXml), os.path.join(vallabelPath, fileXml))\n",
    "    \n",
    "    #remove files from arrays\n",
    "    imgs.remove(fileJpg)\n",
    "    xmls.remove(fileXml)\n",
    "\n",
    "#rest of files will be validation files, so rename origin dir to val dir\n",
    "#os.rename(crsPath, valPath)\n",
    "shutil.move(crsPath, valPath) "
   ]
  },
  {
   "cell_type": "code",
   "execution_count": 2,
   "id": "22fb96b6",
   "metadata": {},
   "outputs": [
    {
     "name": "stdout",
     "output_type": "stream",
     "text": [
      "C:\\Users\\Prachiti\\OneDrive\\Desktop\\plant_YOLO\\plant_YOLO1\\yolov5\n"
     ]
    }
   ],
   "source": [
    "cd C:\\Users\\Prachiti\\OneDrive\\Desktop\\plant_YOLO\\plant_YOLO1\\yolov5"
   ]
  },
  {
   "cell_type": "code",
   "execution_count": 3,
   "id": "8310ead2",
   "metadata": {},
   "outputs": [],
   "source": [
    "!python train.py --img 416 --batch 16 --epochs 20 --data dataset.yaml --weights yolov5s.pt --cache"
   ]
  },
  {
   "cell_type": "code",
   "execution_count": 16,
   "id": "146b8c26",
   "metadata": {},
   "outputs": [
    {
     "name": "stdout",
     "output_type": "stream",
     "text": [
      " Volume in drive C is Windows\n",
      " Volume Serial Number is BAE4-F5CA\n",
      "\n",
      " Directory of C:\\Users\\Prachiti\\OneDrive\\Desktop\\plant_YOLO\\plant_YOLO1\\yolov5\n",
      "\n",
      "14-04-2023  19:14    <DIR>          .\n",
      "14-04-2023  21:39    <DIR>          ..\n",
      "09-04-2023  21:07             3,923 .dockerignore\n",
      "09-04-2023  21:07                77 .gitattributes\n",
      "10-04-2023  22:49    <DIR>          .github\n",
      "09-04-2023  21:07             4,255 .gitignore\n",
      "09-04-2023  21:07             1,816 .pre-commit-config.yaml\n",
      "10-04-2023  22:49    <DIR>          __pycache__\n",
      "09-04-2023  21:07             7,999 benchmarks.py\n",
      "09-04-2023  21:07               406 CITATION.cff\n",
      "10-04-2023  22:49    <DIR>          classify\n",
      "09-04-2023  21:07             5,092 CONTRIBUTING.md\n",
      "10-04-2023  22:49    <DIR>          data\n",
      "24-03-2023  12:51               144 dataset.yaml\n",
      "09-04-2023  21:07            14,553 detect.py\n",
      "09-04-2023  21:07            32,721 export.py\n",
      "09-04-2023  21:07             7,880 hubconf.py\n",
      "09-04-2023  21:07            35,801 LICENSE\n",
      "10-04-2023  22:49    <DIR>          models\n",
      "09-04-2023  21:07            40,261 README.md\n",
      "09-04-2023  21:07            39,290 README.zh-CN.md\n",
      "09-04-2023  21:07             1,629 requirements.txt\n",
      "10-04-2023  22:49    <DIR>          runs\n",
      "10-04-2023  22:49    <DIR>          segment\n",
      "09-04-2023  21:07             1,781 setup.cfg\n",
      "09-04-2023  21:07            34,351 train.py\n",
      "09-04-2023  21:07            41,446 tutorial.ipynb\n",
      "10-04-2023  22:49    <DIR>          utils\n",
      "09-04-2023  21:07            20,833 val.py\n",
      "09-04-2023  21:13        14,808,437 yolov5s.pt\n",
      "              20 File(s)     15,102,695 bytes\n",
      "              10 Dir(s)  11,935,039,488 bytes free\n"
     ]
    }
   ],
   "source": [
    "ls"
   ]
  },
  {
   "cell_type": "code",
   "execution_count": 6,
   "id": "c2bfcb3c",
   "metadata": {},
   "outputs": [],
   "source": [
    "!python train.py --data dataset.yaml --weights '' --img 416 --batch 16 --epochs 30"
   ]
  },
  {
   "cell_type": "code",
   "execution_count": null,
   "id": "cf6568a3",
   "metadata": {},
   "outputs": [],
   "source": []
  },
  {
   "cell_type": "code",
   "execution_count": null,
   "id": "f603ab7e",
   "metadata": {},
   "outputs": [],
   "source": []
  },
  {
   "cell_type": "code",
   "execution_count": null,
   "id": "cc139d30",
   "metadata": {},
   "outputs": [],
   "source": []
  },
  {
   "cell_type": "code",
   "execution_count": null,
   "id": "db55cd86",
   "metadata": {},
   "outputs": [],
   "source": []
  },
  {
   "cell_type": "code",
   "execution_count": null,
   "id": "5f412317",
   "metadata": {},
   "outputs": [],
   "source": []
  },
  {
   "cell_type": "code",
   "execution_count": null,
   "id": "41abd502",
   "metadata": {},
   "outputs": [],
   "source": []
  },
  {
   "cell_type": "code",
   "execution_count": null,
   "id": "0d4af01d",
   "metadata": {},
   "outputs": [],
   "source": []
  },
  {
   "cell_type": "code",
   "execution_count": null,
   "id": "5c11a662",
   "metadata": {},
   "outputs": [],
   "source": []
  }
 ],
 "metadata": {
  "kernelspec": {
   "display_name": "Python 3 (ipykernel)",
   "language": "python",
   "name": "python3"
  },
  "language_info": {
   "codemirror_mode": {
    "name": "ipython",
    "version": 3
   },
   "file_extension": ".py",
   "mimetype": "text/x-python",
   "name": "python",
   "nbconvert_exporter": "python",
   "pygments_lexer": "ipython3",
   "version": "3.8.10"
  }
 },
 "nbformat": 4,
 "nbformat_minor": 5
}
