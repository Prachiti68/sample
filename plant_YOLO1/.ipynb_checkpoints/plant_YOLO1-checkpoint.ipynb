{
 "cells": [
  {
   "cell_type": "code",
   "execution_count": 1,
   "id": "39806c46",
   "metadata": {},
   "outputs": [
    {
     "name": "stdout",
     "output_type": "stream",
     "text": [
      "Requirement already satisfied: pip in c:\\users\\prachiti\\appdata\\local\\programs\\python\\python38\\lib\\site-packages (23.0.1)\n",
      "Requirement already satisfied: tensorflow==2.3.1 in c:\\users\\prachiti\\appdata\\local\\programs\\python\\python38\\lib\\site-packages (2.3.1)\n",
      "Requirement already satisfied: astunparse==1.6.3 in c:\\users\\prachiti\\appdata\\local\\programs\\python\\python38\\lib\\site-packages (from tensorflow==2.3.1) (1.6.3)\n",
      "Requirement already satisfied: tensorflow-estimator<2.4.0,>=2.3.0 in c:\\users\\prachiti\\appdata\\local\\programs\\python\\python38\\lib\\site-packages (from tensorflow==2.3.1) (2.3.0)\n",
      "Requirement already satisfied: absl-py>=0.7.0 in c:\\users\\prachiti\\appdata\\local\\programs\\python\\python38\\lib\\site-packages (from tensorflow==2.3.1) (1.4.0)\n",
      "Requirement already satisfied: wheel>=0.26 in c:\\users\\prachiti\\appdata\\local\\programs\\python\\python38\\lib\\site-packages (from tensorflow==2.3.1) (0.38.4)\n",
      "Requirement already satisfied: google-pasta>=0.1.8 in c:\\users\\prachiti\\appdata\\local\\programs\\python\\python38\\lib\\site-packages (from tensorflow==2.3.1) (0.2.0)\n",
      "Requirement already satisfied: grpcio>=1.8.6 in c:\\users\\prachiti\\appdata\\local\\programs\\python\\python38\\lib\\site-packages (from tensorflow==2.3.1) (1.51.1)\n",
      "Requirement already satisfied: h5py<2.11.0,>=2.10.0 in c:\\users\\prachiti\\appdata\\local\\programs\\python\\python38\\lib\\site-packages (from tensorflow==2.3.1) (2.10.0)\n",
      "Requirement already satisfied: tensorboard<3,>=2.3.0 in c:\\users\\prachiti\\appdata\\local\\programs\\python\\python38\\lib\\site-packages (from tensorflow==2.3.1) (2.4.1)\n",
      "Requirement already satisfied: wrapt>=1.11.1 in c:\\users\\prachiti\\appdata\\local\\programs\\python\\python38\\lib\\site-packages (from tensorflow==2.3.1) (1.14.1)\n",
      "Requirement already satisfied: termcolor>=1.1.0 in c:\\users\\prachiti\\appdata\\local\\programs\\python\\python38\\lib\\site-packages (from tensorflow==2.3.1) (2.2.0)\n",
      "Requirement already satisfied: protobuf>=3.9.2 in c:\\users\\prachiti\\appdata\\local\\programs\\python\\python38\\lib\\site-packages (from tensorflow==2.3.1) (3.19.6)\n",
      "Requirement already satisfied: keras-preprocessing<1.2,>=1.1.1 in c:\\users\\prachiti\\appdata\\local\\programs\\python\\python38\\lib\\site-packages (from tensorflow==2.3.1) (1.1.2)\n",
      "Requirement already satisfied: six>=1.12.0 in c:\\users\\prachiti\\appdata\\local\\programs\\python\\python38\\lib\\site-packages (from tensorflow==2.3.1) (1.16.0)\n",
      "Requirement already satisfied: opt-einsum>=2.3.2 in c:\\users\\prachiti\\appdata\\local\\programs\\python\\python38\\lib\\site-packages (from tensorflow==2.3.1) (3.3.0)\n",
      "Requirement already satisfied: numpy<1.19.0,>=1.16.0 in c:\\users\\prachiti\\appdata\\local\\programs\\python\\python38\\lib\\site-packages (from tensorflow==2.3.1) (1.18.5)\n",
      "Requirement already satisfied: gast==0.3.3 in c:\\users\\prachiti\\appdata\\local\\programs\\python\\python38\\lib\\site-packages (from tensorflow==2.3.1) (0.3.3)\n",
      "Requirement already satisfied: tensorboard-plugin-wit>=1.6.0 in c:\\users\\prachiti\\appdata\\local\\programs\\python\\python38\\lib\\site-packages (from tensorboard<3,>=2.3.0->tensorflow==2.3.1) (1.8.1)\n",
      "Requirement already satisfied: google-auth-oauthlib<0.5,>=0.4.1 in c:\\users\\prachiti\\appdata\\local\\programs\\python\\python38\\lib\\site-packages (from tensorboard<3,>=2.3.0->tensorflow==2.3.1) (0.4.6)\n",
      "Requirement already satisfied: setuptools>=41.0.0 in c:\\users\\prachiti\\appdata\\local\\programs\\python\\python38\\lib\\site-packages (from tensorboard<3,>=2.3.0->tensorflow==2.3.1) (67.6.0)\n",
      "Requirement already satisfied: requests<3,>=2.21.0 in c:\\users\\prachiti\\appdata\\local\\programs\\python\\python38\\lib\\site-packages (from tensorboard<3,>=2.3.0->tensorflow==2.3.1) (2.27.1)\n",
      "Requirement already satisfied: google-auth<2,>=1.6.3 in c:\\users\\prachiti\\appdata\\local\\programs\\python\\python38\\lib\\site-packages (from tensorboard<3,>=2.3.0->tensorflow==2.3.1) (1.35.0)\n",
      "Requirement already satisfied: werkzeug>=0.11.15 in c:\\users\\prachiti\\appdata\\local\\programs\\python\\python38\\lib\\site-packages (from tensorboard<3,>=2.3.0->tensorflow==2.3.1) (2.2.2)\n",
      "Requirement already satisfied: markdown>=2.6.8 in c:\\users\\prachiti\\appdata\\local\\programs\\python\\python38\\lib\\site-packages (from tensorboard<3,>=2.3.0->tensorflow==2.3.1) (3.4.1)\n",
      "Requirement already satisfied: rsa<5,>=3.1.4 in c:\\users\\prachiti\\appdata\\local\\programs\\python\\python38\\lib\\site-packages (from google-auth<2,>=1.6.3->tensorboard<3,>=2.3.0->tensorflow==2.3.1) (4.9)\n",
      "Requirement already satisfied: pyasn1-modules>=0.2.1 in c:\\users\\prachiti\\appdata\\local\\programs\\python\\python38\\lib\\site-packages (from google-auth<2,>=1.6.3->tensorboard<3,>=2.3.0->tensorflow==2.3.1) (0.2.8)\n",
      "Requirement already satisfied: cachetools<5.0,>=2.0.0 in c:\\users\\prachiti\\appdata\\local\\programs\\python\\python38\\lib\\site-packages (from google-auth<2,>=1.6.3->tensorboard<3,>=2.3.0->tensorflow==2.3.1) (4.2.4)\n",
      "Requirement already satisfied: requests-oauthlib>=0.7.0 in c:\\users\\prachiti\\appdata\\local\\programs\\python\\python38\\lib\\site-packages (from google-auth-oauthlib<0.5,>=0.4.1->tensorboard<3,>=2.3.0->tensorflow==2.3.1) (1.3.1)\n",
      "Requirement already satisfied: importlib-metadata>=4.4 in c:\\users\\prachiti\\appdata\\local\\programs\\python\\python38\\lib\\site-packages (from markdown>=2.6.8->tensorboard<3,>=2.3.0->tensorflow==2.3.1) (6.0.0)\n",
      "Requirement already satisfied: idna<4,>=2.5 in c:\\users\\prachiti\\appdata\\local\\programs\\python\\python38\\lib\\site-packages (from requests<3,>=2.21.0->tensorboard<3,>=2.3.0->tensorflow==2.3.1) (3.3)\n",
      "Requirement already satisfied: urllib3<1.27,>=1.21.1 in c:\\users\\prachiti\\appdata\\local\\programs\\python\\python38\\lib\\site-packages (from requests<3,>=2.21.0->tensorboard<3,>=2.3.0->tensorflow==2.3.1) (1.26.15)\n",
      "Requirement already satisfied: charset-normalizer~=2.0.0 in c:\\users\\prachiti\\appdata\\local\\programs\\python\\python38\\lib\\site-packages (from requests<3,>=2.21.0->tensorboard<3,>=2.3.0->tensorflow==2.3.1) (2.0.11)\n",
      "Requirement already satisfied: certifi>=2017.4.17 in c:\\users\\prachiti\\appdata\\roaming\\python\\python38\\site-packages (from requests<3,>=2.21.0->tensorboard<3,>=2.3.0->tensorflow==2.3.1) (2021.10.8)\n",
      "Requirement already satisfied: MarkupSafe>=2.1.1 in c:\\users\\prachiti\\appdata\\local\\programs\\python\\python38\\lib\\site-packages (from werkzeug>=0.11.15->tensorboard<3,>=2.3.0->tensorflow==2.3.1) (2.1.2)\n",
      "Requirement already satisfied: zipp>=0.5 in c:\\users\\prachiti\\appdata\\local\\programs\\python\\python38\\lib\\site-packages (from importlib-metadata>=4.4->markdown>=2.6.8->tensorboard<3,>=2.3.0->tensorflow==2.3.1) (3.7.0)\n",
      "Requirement already satisfied: pyasn1<0.5.0,>=0.4.6 in c:\\users\\prachiti\\appdata\\local\\programs\\python\\python38\\lib\\site-packages (from pyasn1-modules>=0.2.1->google-auth<2,>=1.6.3->tensorboard<3,>=2.3.0->tensorflow==2.3.1) (0.4.8)\n",
      "Requirement already satisfied: oauthlib>=3.0.0 in c:\\users\\prachiti\\appdata\\local\\programs\\python\\python38\\lib\\site-packages (from requests-oauthlib>=0.7.0->google-auth-oauthlib<0.5,>=0.4.1->tensorboard<3,>=2.3.0->tensorflow==2.3.1) (3.2.2)\n",
      "Requirement already satisfied: tensorboard==2.4.1 in c:\\users\\prachiti\\appdata\\local\\programs\\python\\python38\\lib\\site-packages (2.4.1)\n",
      "Requirement already satisfied: numpy>=1.12.0 in c:\\users\\prachiti\\appdata\\local\\programs\\python\\python38\\lib\\site-packages (from tensorboard==2.4.1) (1.18.5)\n",
      "Requirement already satisfied: setuptools>=41.0.0 in c:\\users\\prachiti\\appdata\\local\\programs\\python\\python38\\lib\\site-packages (from tensorboard==2.4.1) (67.6.0)\n",
      "Requirement already satisfied: six>=1.10.0 in c:\\users\\prachiti\\appdata\\local\\programs\\python\\python38\\lib\\site-packages (from tensorboard==2.4.1) (1.16.0)\n",
      "Requirement already satisfied: tensorboard-plugin-wit>=1.6.0 in c:\\users\\prachiti\\appdata\\local\\programs\\python\\python38\\lib\\site-packages (from tensorboard==2.4.1) (1.8.1)\n",
      "Requirement already satisfied: requests<3,>=2.21.0 in c:\\users\\prachiti\\appdata\\local\\programs\\python\\python38\\lib\\site-packages (from tensorboard==2.4.1) (2.27.1)\n",
      "Requirement already satisfied: werkzeug>=0.11.15 in c:\\users\\prachiti\\appdata\\local\\programs\\python\\python38\\lib\\site-packages (from tensorboard==2.4.1) (2.2.2)\n",
      "Requirement already satisfied: wheel>=0.26 in c:\\users\\prachiti\\appdata\\local\\programs\\python\\python38\\lib\\site-packages (from tensorboard==2.4.1) (0.38.4)\n",
      "Requirement already satisfied: grpcio>=1.24.3 in c:\\users\\prachiti\\appdata\\local\\programs\\python\\python38\\lib\\site-packages (from tensorboard==2.4.1) (1.51.1)\n",
      "Requirement already satisfied: markdown>=2.6.8 in c:\\users\\prachiti\\appdata\\local\\programs\\python\\python38\\lib\\site-packages (from tensorboard==2.4.1) (3.4.1)\n",
      "Requirement already satisfied: protobuf>=3.6.0 in c:\\users\\prachiti\\appdata\\local\\programs\\python\\python38\\lib\\site-packages (from tensorboard==2.4.1) (3.19.6)\n",
      "Requirement already satisfied: google-auth<2,>=1.6.3 in c:\\users\\prachiti\\appdata\\local\\programs\\python\\python38\\lib\\site-packages (from tensorboard==2.4.1) (1.35.0)\n",
      "Requirement already satisfied: google-auth-oauthlib<0.5,>=0.4.1 in c:\\users\\prachiti\\appdata\\local\\programs\\python\\python38\\lib\\site-packages (from tensorboard==2.4.1) (0.4.6)\n",
      "Requirement already satisfied: absl-py>=0.4 in c:\\users\\prachiti\\appdata\\local\\programs\\python\\python38\\lib\\site-packages (from tensorboard==2.4.1) (1.4.0)\n",
      "Requirement already satisfied: cachetools<5.0,>=2.0.0 in c:\\users\\prachiti\\appdata\\local\\programs\\python\\python38\\lib\\site-packages (from google-auth<2,>=1.6.3->tensorboard==2.4.1) (4.2.4)\n",
      "Requirement already satisfied: rsa<5,>=3.1.4 in c:\\users\\prachiti\\appdata\\local\\programs\\python\\python38\\lib\\site-packages (from google-auth<2,>=1.6.3->tensorboard==2.4.1) (4.9)\n",
      "Requirement already satisfied: pyasn1-modules>=0.2.1 in c:\\users\\prachiti\\appdata\\local\\programs\\python\\python38\\lib\\site-packages (from google-auth<2,>=1.6.3->tensorboard==2.4.1) (0.2.8)\n",
      "Requirement already satisfied: requests-oauthlib>=0.7.0 in c:\\users\\prachiti\\appdata\\local\\programs\\python\\python38\\lib\\site-packages (from google-auth-oauthlib<0.5,>=0.4.1->tensorboard==2.4.1) (1.3.1)\n",
      "Requirement already satisfied: importlib-metadata>=4.4 in c:\\users\\prachiti\\appdata\\local\\programs\\python\\python38\\lib\\site-packages (from markdown>=2.6.8->tensorboard==2.4.1) (6.0.0)\n",
      "Requirement already satisfied: certifi>=2017.4.17 in c:\\users\\prachiti\\appdata\\roaming\\python\\python38\\site-packages (from requests<3,>=2.21.0->tensorboard==2.4.1) (2021.10.8)\n",
      "Requirement already satisfied: urllib3<1.27,>=1.21.1 in c:\\users\\prachiti\\appdata\\local\\programs\\python\\python38\\lib\\site-packages (from requests<3,>=2.21.0->tensorboard==2.4.1) (1.26.15)\n",
      "Requirement already satisfied: charset-normalizer~=2.0.0 in c:\\users\\prachiti\\appdata\\local\\programs\\python\\python38\\lib\\site-packages (from requests<3,>=2.21.0->tensorboard==2.4.1) (2.0.11)\n",
      "Requirement already satisfied: idna<4,>=2.5 in c:\\users\\prachiti\\appdata\\local\\programs\\python\\python38\\lib\\site-packages (from requests<3,>=2.21.0->tensorboard==2.4.1) (3.3)\n",
      "Requirement already satisfied: MarkupSafe>=2.1.1 in c:\\users\\prachiti\\appdata\\local\\programs\\python\\python38\\lib\\site-packages (from werkzeug>=0.11.15->tensorboard==2.4.1) (2.1.2)\n",
      "Requirement already satisfied: zipp>=0.5 in c:\\users\\prachiti\\appdata\\local\\programs\\python\\python38\\lib\\site-packages (from importlib-metadata>=4.4->markdown>=2.6.8->tensorboard==2.4.1) (3.7.0)\n",
      "Requirement already satisfied: pyasn1<0.5.0,>=0.4.6 in c:\\users\\prachiti\\appdata\\local\\programs\\python\\python38\\lib\\site-packages (from pyasn1-modules>=0.2.1->google-auth<2,>=1.6.3->tensorboard==2.4.1) (0.4.8)\n",
      "Requirement already satisfied: oauthlib>=3.0.0 in c:\\users\\prachiti\\appdata\\local\\programs\\python\\python38\\lib\\site-packages (from requests-oauthlib>=0.7.0->google-auth-oauthlib<0.5,>=0.4.1->tensorboard==2.4.1) (3.2.2)\n"
     ]
    },
    {
     "name": "stdout",
     "output_type": "stream",
     "text": [
      "Requirement already satisfied: torch in c:\\users\\prachiti\\appdata\\local\\programs\\python\\python38\\lib\\site-packages (2.0.0)\n",
      "Requirement already satisfied: networkx in c:\\users\\prachiti\\appdata\\local\\programs\\python\\python38\\lib\\site-packages (from torch) (3.0)\n",
      "Requirement already satisfied: filelock in c:\\users\\prachiti\\appdata\\roaming\\python\\python38\\site-packages (from torch) (3.4.2)\n",
      "Requirement already satisfied: sympy in c:\\users\\prachiti\\appdata\\local\\programs\\python\\python38\\lib\\site-packages (from torch) (1.11.1)\n",
      "Requirement already satisfied: typing-extensions in c:\\users\\prachiti\\appdata\\local\\programs\\python\\python38\\lib\\site-packages (from torch) (4.0.1)\n",
      "Requirement already satisfied: jinja2 in c:\\users\\prachiti\\appdata\\local\\programs\\python\\python38\\lib\\site-packages (from torch) (3.0.3)\n",
      "Requirement already satisfied: MarkupSafe>=2.0 in c:\\users\\prachiti\\appdata\\local\\programs\\python\\python38\\lib\\site-packages (from jinja2->torch) (2.1.2)\n",
      "Requirement already satisfied: mpmath>=0.19 in c:\\users\\prachiti\\appdata\\local\\programs\\python\\python38\\lib\\site-packages (from sympy->torch) (1.3.0)\n"
     ]
    }
   ],
   "source": [
    "!python -m pip install --upgrade pip\n",
    "\n",
    "!pip install tensorflow==2.3.1 \n",
    "\n",
    "!pip install tensorboard==2.4.1\n",
    "!pip install torch  "
   ]
  },
  {
   "cell_type": "code",
   "execution_count": 2,
   "id": "372f1ec3",
   "metadata": {},
   "outputs": [],
   "source": [
    "import torch # YOLOv5 implemented using pytorch\n"
   ]
  },
  {
   "cell_type": "code",
   "execution_count": 3,
   "id": "15998b8b",
   "metadata": {},
   "outputs": [],
   "source": [
    "from IPython.display import Image #this is to render predictions"
   ]
  },
  {
   "cell_type": "code",
   "execution_count": 4,
   "id": "5225b5ac",
   "metadata": {},
   "outputs": [
    {
     "name": "stdout",
     "output_type": "stream",
     "text": [
      " Volume in drive C is Windows\n",
      " Volume Serial Number is BAE4-F5CA\n",
      "\n",
      " Directory of C:\\Users\\Prachiti\\OneDrive\\Desktop\\plant_YOLO\\plant_YOLO1\n",
      "\n",
      "14-04-2023  19:06    <DIR>          .\n",
      "14-04-2023  19:03    <DIR>          ..\n",
      "14-04-2023  18:59    <DIR>          .ipynb_checkpoints\n",
      "10-04-2023  21:58    <DIR>          NeemBohera\n",
      "14-04-2023  19:06            15,688 Untitled.ipynb\n",
      "10-04-2023  22:49    <DIR>          yolov5\n",
      "               1 File(s)         15,688 bytes\n",
      "               5 Dir(s)  13,292,728,320 bytes free\n"
     ]
    }
   ],
   "source": [
    "ls"
   ]
  },
  {
   "cell_type": "code",
   "execution_count": 5,
   "id": "a877ae69",
   "metadata": {},
   "outputs": [
    {
     "name": "stdout",
     "output_type": "stream",
     "text": [
      "C:\\Users\\Prachiti\\OneDrive\\Desktop\\plant_YOLO\\plant_YOLO1\\yolov5\n"
     ]
    }
   ],
   "source": [
    "%cd yolov5"
   ]
  },
  {
   "cell_type": "code",
   "execution_count": 6,
   "id": "9af11f1d",
   "metadata": {},
   "outputs": [
    {
     "name": "stdout",
     "output_type": "stream",
     "text": [
      "Requirement already satisfied: gitpython>=3.1.30 in c:\\users\\prachiti\\appdata\\local\\programs\\python\\python38\\lib\\site-packages (from -r requirements.txt (line 5)) (3.1.31)\n",
      "Requirement already satisfied: matplotlib>=3.3 in c:\\users\\prachiti\\appdata\\local\\programs\\python\\python38\\lib\\site-packages (from -r requirements.txt (line 6)) (3.5.1)\n",
      "Requirement already satisfied: numpy>=1.18.5 in c:\\users\\prachiti\\appdata\\local\\programs\\python\\python38\\lib\\site-packages (from -r requirements.txt (line 7)) (1.18.5)\n",
      "Requirement already satisfied: opencv-python>=4.1.1 in c:\\users\\prachiti\\appdata\\local\\programs\\python\\python38\\lib\\site-packages (from -r requirements.txt (line 8)) (4.7.0.72)\n",
      "Requirement already satisfied: Pillow>=7.1.2 in c:\\users\\prachiti\\appdata\\local\\programs\\python\\python38\\lib\\site-packages (from -r requirements.txt (line 9)) (9.1.0)\n",
      "Requirement already satisfied: psutil in c:\\users\\prachiti\\appdata\\local\\programs\\python\\python38\\lib\\site-packages (from -r requirements.txt (line 10)) (5.9.4)\n",
      "Requirement already satisfied: PyYAML>=5.3.1 in c:\\users\\prachiti\\appdata\\local\\programs\\python\\python38\\lib\\site-packages (from -r requirements.txt (line 11)) (6.0)\n",
      "Requirement already satisfied: requests>=2.23.0 in c:\\users\\prachiti\\appdata\\local\\programs\\python\\python38\\lib\\site-packages (from -r requirements.txt (line 12)) (2.27.1)\n",
      "Requirement already satisfied: scipy>=1.4.1 in c:\\users\\prachiti\\appdata\\local\\programs\\python\\python38\\lib\\site-packages (from -r requirements.txt (line 13)) (1.10.0)\n",
      "Requirement already satisfied: thop>=0.1.1 in c:\\users\\prachiti\\appdata\\local\\programs\\python\\python38\\lib\\site-packages (from -r requirements.txt (line 14)) (0.1.1.post2209072238)\n",
      "Requirement already satisfied: torch>=1.7.0 in c:\\users\\prachiti\\appdata\\local\\programs\\python\\python38\\lib\\site-packages (from -r requirements.txt (line 15)) (2.0.0)\n",
      "Requirement already satisfied: torchvision>=0.8.1 in c:\\users\\prachiti\\appdata\\local\\programs\\python\\python38\\lib\\site-packages (from -r requirements.txt (line 16)) (0.15.1)\n",
      "Requirement already satisfied: tqdm>=4.64.0 in c:\\users\\prachiti\\appdata\\local\\programs\\python\\python38\\lib\\site-packages (from -r requirements.txt (line 17)) (4.64.1)\n",
      "Requirement already satisfied: tensorboard>=2.4.1 in c:\\users\\prachiti\\appdata\\local\\programs\\python\\python38\\lib\\site-packages (from -r requirements.txt (line 21)) (2.4.1)\n",
      "Requirement already satisfied: pandas>=1.1.4 in c:\\users\\prachiti\\appdata\\local\\programs\\python\\python38\\lib\\site-packages (from -r requirements.txt (line 26)) (1.5.3)\n",
      "Requirement already satisfied: seaborn>=0.11.0 in c:\\users\\prachiti\\appdata\\local\\programs\\python\\python38\\lib\\site-packages (from -r requirements.txt (line 27)) (0.12.2)\n",
      "Requirement already satisfied: setuptools>=65.5.1 in c:\\users\\prachiti\\appdata\\local\\programs\\python\\python38\\lib\\site-packages (from -r requirements.txt (line 41)) (67.6.0)\n",
      "Requirement already satisfied: gitdb<5,>=4.0.1 in c:\\users\\prachiti\\appdata\\local\\programs\\python\\python38\\lib\\site-packages (from gitpython>=3.1.30->-r requirements.txt (line 5)) (4.0.10)\n",
      "Requirement already satisfied: packaging>=20.0 in c:\\users\\prachiti\\appdata\\local\\programs\\python\\python38\\lib\\site-packages (from matplotlib>=3.3->-r requirements.txt (line 6)) (21.3)\n",
      "Requirement already satisfied: cycler>=0.10 in c:\\users\\prachiti\\appdata\\local\\programs\\python\\python38\\lib\\site-packages (from matplotlib>=3.3->-r requirements.txt (line 6)) (0.11.0)\n",
      "Requirement already satisfied: kiwisolver>=1.0.1 in c:\\users\\prachiti\\appdata\\local\\programs\\python\\python38\\lib\\site-packages (from matplotlib>=3.3->-r requirements.txt (line 6)) (1.4.2)\n",
      "Requirement already satisfied: python-dateutil>=2.7 in c:\\users\\prachiti\\appdata\\local\\programs\\python\\python38\\lib\\site-packages (from matplotlib>=3.3->-r requirements.txt (line 6)) (2.8.2)\n",
      "Requirement already satisfied: pyparsing>=2.2.1 in c:\\users\\prachiti\\appdata\\local\\programs\\python\\python38\\lib\\site-packages (from matplotlib>=3.3->-r requirements.txt (line 6)) (3.0.7)\n",
      "Requirement already satisfied: fonttools>=4.22.0 in c:\\users\\prachiti\\appdata\\local\\programs\\python\\python38\\lib\\site-packages (from matplotlib>=3.3->-r requirements.txt (line 6)) (4.33.2)\n",
      "Requirement already satisfied: urllib3<1.27,>=1.21.1 in c:\\users\\prachiti\\appdata\\local\\programs\\python\\python38\\lib\\site-packages (from requests>=2.23.0->-r requirements.txt (line 12)) (1.26.15)\n",
      "Requirement already satisfied: charset-normalizer~=2.0.0 in c:\\users\\prachiti\\appdata\\local\\programs\\python\\python38\\lib\\site-packages (from requests>=2.23.0->-r requirements.txt (line 12)) (2.0.11)\n",
      "Requirement already satisfied: certifi>=2017.4.17 in c:\\users\\prachiti\\appdata\\roaming\\python\\python38\\site-packages (from requests>=2.23.0->-r requirements.txt (line 12)) (2021.10.8)\n",
      "Requirement already satisfied: idna<4,>=2.5 in c:\\users\\prachiti\\appdata\\local\\programs\\python\\python38\\lib\\site-packages (from requests>=2.23.0->-r requirements.txt (line 12)) (3.3)\n",
      "Collecting numpy>=1.18.5\n",
      "  Using cached numpy-1.24.2-cp38-cp38-win_amd64.whl (14.9 MB)\n",
      "Requirement already satisfied: networkx in c:\\users\\prachiti\\appdata\\local\\programs\\python\\python38\\lib\\site-packages (from torch>=1.7.0->-r requirements.txt (line 15)) (3.0)\n",
      "Requirement already satisfied: jinja2 in c:\\users\\prachiti\\appdata\\local\\programs\\python\\python38\\lib\\site-packages (from torch>=1.7.0->-r requirements.txt (line 15)) (3.0.3)\n",
      "Requirement already satisfied: filelock in c:\\users\\prachiti\\appdata\\roaming\\python\\python38\\site-packages (from torch>=1.7.0->-r requirements.txt (line 15)) (3.4.2)\n",
      "Requirement already satisfied: typing-extensions in c:\\users\\prachiti\\appdata\\local\\programs\\python\\python38\\lib\\site-packages (from torch>=1.7.0->-r requirements.txt (line 15)) (4.0.1)\n",
      "Requirement already satisfied: sympy in c:\\users\\prachiti\\appdata\\local\\programs\\python\\python38\\lib\\site-packages (from torch>=1.7.0->-r requirements.txt (line 15)) (1.11.1)\n",
      "Requirement already satisfied: colorama in c:\\users\\prachiti\\appdata\\local\\programs\\python\\python38\\lib\\site-packages (from tqdm>=4.64.0->-r requirements.txt (line 17)) (0.4.4)"
     ]
    },
    {
     "name": "stderr",
     "output_type": "stream",
     "text": [
      "ERROR: Could not install packages due to an OSError: [WinError 5] Access is denied: 'C:\\\\Users\\\\Prachiti\\\\AppData\\\\Local\\\\Programs\\\\Python\\\\Python38\\\\Lib\\\\site-packages\\\\~1mpy\\\\.libs\\\\libopenblas.PYQHXLVVQ7VESDPUVUADXEVJOBGHJPAY.gfortran-win_amd64.dll'\n",
      "Consider using the `--user` option or check the permissions.\n",
      "\n"
     ]
    },
    {
     "name": "stdout",
     "output_type": "stream",
     "text": [
      "\n",
      "Requirement already satisfied: google-auth<2,>=1.6.3 in c:\\users\\prachiti\\appdata\\local\\programs\\python\\python38\\lib\\site-packages (from tensorboard>=2.4.1->-r requirements.txt (line 21)) (1.35.0)\n",
      "Requirement already satisfied: grpcio>=1.24.3 in c:\\users\\prachiti\\appdata\\local\\programs\\python\\python38\\lib\\site-packages (from tensorboard>=2.4.1->-r requirements.txt (line 21)) (1.51.1)\n",
      "Requirement already satisfied: markdown>=2.6.8 in c:\\users\\prachiti\\appdata\\local\\programs\\python\\python38\\lib\\site-packages (from tensorboard>=2.4.1->-r requirements.txt (line 21)) (3.4.1)\n",
      "Requirement already satisfied: google-auth-oauthlib<0.5,>=0.4.1 in c:\\users\\prachiti\\appdata\\local\\programs\\python\\python38\\lib\\site-packages (from tensorboard>=2.4.1->-r requirements.txt (line 21)) (0.4.6)\n",
      "Requirement already satisfied: protobuf>=3.6.0 in c:\\users\\prachiti\\appdata\\local\\programs\\python\\python38\\lib\\site-packages (from tensorboard>=2.4.1->-r requirements.txt (line 21)) (3.19.6)\n",
      "Requirement already satisfied: wheel>=0.26 in c:\\users\\prachiti\\appdata\\local\\programs\\python\\python38\\lib\\site-packages (from tensorboard>=2.4.1->-r requirements.txt (line 21)) (0.38.4)\n",
      "Requirement already satisfied: six>=1.10.0 in c:\\users\\prachiti\\appdata\\local\\programs\\python\\python38\\lib\\site-packages (from tensorboard>=2.4.1->-r requirements.txt (line 21)) (1.16.0)\n",
      "Requirement already satisfied: werkzeug>=0.11.15 in c:\\users\\prachiti\\appdata\\local\\programs\\python\\python38\\lib\\site-packages (from tensorboard>=2.4.1->-r requirements.txt (line 21)) (2.2.2)\n",
      "Requirement already satisfied: tensorboard-plugin-wit>=1.6.0 in c:\\users\\prachiti\\appdata\\local\\programs\\python\\python38\\lib\\site-packages (from tensorboard>=2.4.1->-r requirements.txt (line 21)) (1.8.1)\n",
      "Requirement already satisfied: absl-py>=0.4 in c:\\users\\prachiti\\appdata\\local\\programs\\python\\python38\\lib\\site-packages (from tensorboard>=2.4.1->-r requirements.txt (line 21)) (1.4.0)\n",
      "Requirement already satisfied: pytz>=2020.1 in c:\\users\\prachiti\\appdata\\local\\programs\\python\\python38\\lib\\site-packages (from pandas>=1.1.4->-r requirements.txt (line 26)) (2022.7.1)\n",
      "Requirement already satisfied: smmap<6,>=3.0.1 in c:\\users\\prachiti\\appdata\\local\\programs\\python\\python38\\lib\\site-packages (from gitdb<5,>=4.0.1->gitpython>=3.1.30->-r requirements.txt (line 5)) (5.0.0)\n",
      "Requirement already satisfied: pyasn1-modules>=0.2.1 in c:\\users\\prachiti\\appdata\\local\\programs\\python\\python38\\lib\\site-packages (from google-auth<2,>=1.6.3->tensorboard>=2.4.1->-r requirements.txt (line 21)) (0.2.8)\n",
      "Requirement already satisfied: rsa<5,>=3.1.4 in c:\\users\\prachiti\\appdata\\local\\programs\\python\\python38\\lib\\site-packages (from google-auth<2,>=1.6.3->tensorboard>=2.4.1->-r requirements.txt (line 21)) (4.9)\n",
      "Requirement already satisfied: cachetools<5.0,>=2.0.0 in c:\\users\\prachiti\\appdata\\local\\programs\\python\\python38\\lib\\site-packages (from google-auth<2,>=1.6.3->tensorboard>=2.4.1->-r requirements.txt (line 21)) (4.2.4)\n",
      "Requirement already satisfied: requests-oauthlib>=0.7.0 in c:\\users\\prachiti\\appdata\\local\\programs\\python\\python38\\lib\\site-packages (from google-auth-oauthlib<0.5,>=0.4.1->tensorboard>=2.4.1->-r requirements.txt (line 21)) (1.3.1)\n",
      "Requirement already satisfied: importlib-metadata>=4.4 in c:\\users\\prachiti\\appdata\\local\\programs\\python\\python38\\lib\\site-packages (from markdown>=2.6.8->tensorboard>=2.4.1->-r requirements.txt (line 21)) (6.0.0)\n",
      "Requirement already satisfied: MarkupSafe>=2.1.1 in c:\\users\\prachiti\\appdata\\local\\programs\\python\\python38\\lib\\site-packages (from werkzeug>=0.11.15->tensorboard>=2.4.1->-r requirements.txt (line 21)) (2.1.2)\n",
      "Requirement already satisfied: mpmath>=0.19 in c:\\users\\prachiti\\appdata\\local\\programs\\python\\python38\\lib\\site-packages (from sympy->torch>=1.7.0->-r requirements.txt (line 15)) (1.3.0)\n",
      "Requirement already satisfied: zipp>=0.5 in c:\\users\\prachiti\\appdata\\local\\programs\\python\\python38\\lib\\site-packages (from importlib-metadata>=4.4->markdown>=2.6.8->tensorboard>=2.4.1->-r requirements.txt (line 21)) (3.7.0)\n",
      "Requirement already satisfied: pyasn1<0.5.0,>=0.4.6 in c:\\users\\prachiti\\appdata\\local\\programs\\python\\python38\\lib\\site-packages (from pyasn1-modules>=0.2.1->google-auth<2,>=1.6.3->tensorboard>=2.4.1->-r requirements.txt (line 21)) (0.4.8)\n",
      "Requirement already satisfied: oauthlib>=3.0.0 in c:\\users\\prachiti\\appdata\\local\\programs\\python\\python38\\lib\\site-packages (from requests-oauthlib>=0.7.0->google-auth-oauthlib<0.5,>=0.4.1->tensorboard>=2.4.1->-r requirements.txt (line 21)) (3.2.2)\n",
      "Installing collected packages: numpy\n",
      "  Attempting uninstall: numpy\n",
      "    Found existing installation: numpy 1.18.5\n",
      "    Uninstalling numpy-1.18.5:\n",
      "      Successfully uninstalled numpy-1.18.5\n"
     ]
    }
   ],
   "source": [
    "!pip install -r requirements.txt"
   ]
  },
  {
   "cell_type": "markdown",
   "id": "9c3a1cb2",
   "metadata": {},
   "source": [
    "Dividing the dataset in train and val folder."
   ]
  },
  {
   "cell_type": "code",
   "execution_count": null,
   "id": "9e599534",
   "metadata": {},
   "outputs": [],
   "source": [
    "#already splitted\n",
    "import os\n",
    "from random import choice\n",
    "import shutil\n",
    "\n",
    "#arrays to store file names\n",
    "imgs =[]\n",
    "xmls =[]\n",
    "\n",
    "#setup dir names\n",
    "trainPath = r'C:\\Users\\Prachiti\\OneDrive\\Desktop\\plant_YOLO\\plant_YOLO1\\dataset\\images\\train'\n",
    "valPath = r'C:\\Users\\Prachiti\\OneDrive\\Desktop\\plant_YOLO\\plant_YOLO1\\dataset\\images\\val'\n",
    "crsPath = r\"C:\\Users\\Prachiti\\OneDrive\\Desktop\\plant_YOLO\\plant_YOLO1\\NeemBohera\" #dir where images and annotations stored\n",
    "\n",
    "#setup ratio (val ratio = rest of the files in origin dir after splitting into train and test)\n",
    "train_ratio = 0.8\n",
    "val_ratio = 0.2\n",
    "\n",
    "\n",
    "#total count of imgs\n",
    "totalImgCount = len(os.listdir(crsPath))/2\n",
    "\n",
    "#soring files to corresponding arrays\n",
    "for (dirname, dirs, files) in os.walk(crsPath):\n",
    "    for filename in files:\n",
    "        if filename.endswith('.txt'):\n",
    "            xmls.append(filename)\n",
    "        else:\n",
    "            imgs.append(filename)\n",
    "\n",
    "\n",
    "#counting range for cycles\n",
    "countForTrain = int(len(imgs)*train_ratio)\n",
    "countForVal = int(len(imgs)*val_ratio)\n",
    "print(\"training images are : \",countForTrain)\n",
    "print(\"Validation images are : \",countForVal)"
   ]
  },
  {
   "cell_type": "code",
   "execution_count": null,
   "id": "d9d2fd03",
   "metadata": {},
   "outputs": [],
   "source": []
  }
 ],
 "metadata": {
  "kernelspec": {
   "display_name": "Python 3 (ipykernel)",
   "language": "python",
   "name": "python3"
  },
  "language_info": {
   "codemirror_mode": {
    "name": "ipython",
    "version": 3
   },
   "file_extension": ".py",
   "mimetype": "text/x-python",
   "name": "python",
   "nbconvert_exporter": "python",
   "pygments_lexer": "ipython3",
   "version": "3.8.10"
  }
 },
 "nbformat": 4,
 "nbformat_minor": 5
}
