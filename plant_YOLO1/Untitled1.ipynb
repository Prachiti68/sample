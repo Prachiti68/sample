{
 "cells": [
  {
   "cell_type": "code",
   "execution_count": 1,
   "id": "ea059f6d",
   "metadata": {},
   "outputs": [
    {
     "name": "stdout",
     "output_type": "stream",
     "text": [
      " Volume in drive C is Windows\n",
      " Volume Serial Number is BAE4-F5CA\n",
      "\n",
      " Directory of C:\\Users\\Prachiti\\OneDrive\\Desktop\\plant_YOLO\\plant_YOLO1\n",
      "\n",
      "14-04-2023  19:47    <DIR>          .\n",
      "14-04-2023  19:07    <DIR>          ..\n",
      "14-04-2023  19:47    <DIR>          .ipynb_checkpoints\n",
      "14-04-2023  19:11    <DIR>          dataset\n",
      "14-04-2023  19:42            48,758 Untitled.ipynb\n",
      "14-04-2023  19:47                72 Untitled1.ipynb\n",
      "14-04-2023  19:14    <DIR>          yolov5\n",
      "               2 File(s)         48,830 bytes\n",
      "               5 Dir(s)  12,310,392,832 bytes free\n"
     ]
    }
   ],
   "source": [
    "ls"
   ]
  },
  {
   "cell_type": "code",
   "execution_count": null,
   "id": "b13b5ea4",
   "metadata": {},
   "outputs": [],
   "source": []
  },
  {
   "cell_type": "code",
   "execution_count": null,
   "id": "4ec29eca",
   "metadata": {},
   "outputs": [],
   "source": []
  },
  {
   "cell_type": "code",
   "execution_count": null,
   "id": "663f6e75",
   "metadata": {},
   "outputs": [],
   "source": []
  },
  {
   "cell_type": "code",
   "execution_count": null,
   "id": "074156b2",
   "metadata": {},
   "outputs": [],
   "source": []
  },
  {
   "cell_type": "code",
   "execution_count": null,
   "id": "cd470067",
   "metadata": {},
   "outputs": [],
   "source": []
  },
  {
   "cell_type": "code",
   "execution_count": null,
   "id": "dd07cec9",
   "metadata": {},
   "outputs": [],
   "source": []
  },
  {
   "cell_type": "code",
   "execution_count": null,
   "id": "07614776",
   "metadata": {},
   "outputs": [],
   "source": []
  },
  {
   "cell_type": "code",
   "execution_count": null,
   "id": "e3532a33",
   "metadata": {},
   "outputs": [],
   "source": []
  }
 ],
 "metadata": {
  "kernelspec": {
   "display_name": "Python 3 (ipykernel)",
   "language": "python",
   "name": "python3"
  },
  "language_info": {
   "codemirror_mode": {
    "name": "ipython",
    "version": 3
   },
   "file_extension": ".py",
   "mimetype": "text/x-python",
   "name": "python",
   "nbconvert_exporter": "python",
   "pygments_lexer": "ipython3",
   "version": "3.8.10"
  }
 },
 "nbformat": 4,
 "nbformat_minor": 5
}
